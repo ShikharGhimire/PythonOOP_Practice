{
 "cells": [
  {
   "cell_type": "markdown",
   "metadata": {},
   "source": [
    "### Python Object oriented programming"
   ]
  },
  {
   "cell_type": "markdown",
   "metadata": {},
   "source": [
    "#### Classes and Instances\n",
    "Why do we use Classes?\n",
    "- Classes allows us to logically group data and functions in a way that is easy to reuse and build upon if needed\n",
    "- Data and functions associated with a specific class is called attributes and methods"
   ]
  },
  {
   "cell_type": "markdown",
   "metadata": {},
   "source": [
    "#### Let's say we have an application for a company and. we want to represent our employees in python code.\n",
    "- This is good use of class because each individual employees will going to have specific attributes and methods\n",
    "- Let's create a class to create a blueprint for each employee so that we don't have to do manually each time from scratch"
   ]
  },
  {
   "cell_type": "markdown",
   "metadata": {},
   "source": [
    "### Difference between class and instance of the class\n",
    "- Class is the blueprint to create instances. Each unique employee we create using employee class will be an instance of the class.\n",
    "For example\n",
    "If we write:\n",
    "\n",
    "emp_1 = Employee()\n",
    "\n",
    "emp2 = Employee()\n",
    "\n",
    "- We are creating two instances of Employee\n",
    "\n",
    "- Instance variable consists of data that is unique to each instance\n"
   ]
  },
  {
   "cell_type": "code",
   "execution_count": 4,
   "metadata": {},
   "outputs": [
    {
     "name": "stdout",
     "output_type": "stream",
     "text": [
      "<__main__.Employee object at 0x7fece1e9b710>\n",
      "<__main__.Employee object at 0x7fece1e9b610>\n",
      "Corey Schafer@company.com\n",
      "ghimireshikhar7@gmail.com\n"
     ]
    }
   ],
   "source": [
    "#Simple employee class with no attributes or methods\n",
    "class Employee:\n",
    "    pass\n",
    "\n",
    "emp_1 = Employee()\n",
    "emp_2 = Employee()\n",
    "\n",
    "print(emp_1)\n",
    "print(emp_2)\n",
    "\n",
    "#We could manually create instance variable for each employee by doing something like this\n",
    "emp_1.first = 'Corey'\n",
    "emp_1.last = 'Schafer'\n",
    "emp_1.email = 'Corey Schafer@company.com'\n",
    "emp_1.pay = 50000\n",
    "\n",
    "#For the next employee\n",
    "emp_2.first = 'Shikhar'\n",
    "emp_2.last = 'Ghimire'\n",
    "emp_2.email = 'ghimireshikhar7@gmail.com'\n",
    "emp_2.pay = 55000\n",
    "\n",
    "## From above after righting the information, each of the instances have attributes that are unique to them. \n",
    "print(emp_1.email)\n",
    "print(emp_2.email)"
   ]
  },
  {
   "cell_type": "code",
   "execution_count": 15,
   "metadata": {},
   "outputs": [
    {
     "name": "stdout",
     "output_type": "stream",
     "text": [
      "Corey Schafer\n",
      "Shikhar Ghimire\n"
     ]
    },
    {
     "data": {
      "text/plain": [
       "'Corey Schafer'"
      ]
     },
     "execution_count": 15,
     "metadata": {},
     "output_type": "execute_result"
    }
   ],
   "source": [
    "#Let's say we don't want to manually write all the information all the time for every employees, so \n",
    "#to make it do automatically, we will use init method \n",
    "\n",
    "class Employee:\n",
    "    def __init__(self,first,last,pay): #Now when we create a method within the class, it will recieve the instance as the first argument automatically\n",
    "        self.first = first #These four variables are called instance variables\n",
    "        self.last = last\n",
    "        self.pay = pay\n",
    "        self.email = first+ '.' + last + '@company.com'\n",
    "    \n",
    "    #Let's create a full name method to call the full name\n",
    "    def fullname(self):\n",
    "        return '{} {}'.format(self.first, self.last)\n",
    "        \n",
    "#Now when we create an instance of the class(below) right here, we can pass in the values that we specified in our init method\n",
    "emp_1 = Employee('Corey','Schafer',50000)\n",
    "emp_2 = Employee('Shikhar','Ghimire',55000)\n",
    "\n",
    "print(emp_1.fullname()) #Now let's print the full name of emp_1\n",
    "print(emp_2.fullname()) #Now let's print the full name of emp_2\n",
    "\n",
    "#We can also run this using the name of the class\n",
    "Employee.fullname(emp_1)\n",
    "\n"
   ]
  },
  {
   "cell_type": "code",
   "execution_count": null,
   "metadata": {},
   "outputs": [],
   "source": []
  }
 ],
 "metadata": {
  "kernelspec": {
   "display_name": "Python 3",
   "language": "python",
   "name": "python3"
  },
  "language_info": {
   "codemirror_mode": {
    "name": "ipython",
    "version": 3
   },
   "file_extension": ".py",
   "mimetype": "text/x-python",
   "name": "python",
   "nbconvert_exporter": "python",
   "pygments_lexer": "ipython3",
   "version": "3.7.6"
  }
 },
 "nbformat": 4,
 "nbformat_minor": 4
}
