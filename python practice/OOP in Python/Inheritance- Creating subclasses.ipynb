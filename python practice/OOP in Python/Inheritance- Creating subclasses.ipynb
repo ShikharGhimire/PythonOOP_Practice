{
 "cells": [
  {
   "cell_type": "markdown",
   "metadata": {},
   "source": [
    "Let's learn about python inheritance\n",
    "- Just like it sounds, inhertiance allows us to inherit attributes and methods from the parent class\n",
    "- It is useful because we can create subclasses and get all of the functionality of the parent class and we can override or add completley new functionality without affecting the parent class"
   ]
  },
  {
   "cell_type": "code",
   "execution_count": 4,
   "metadata": {},
   "outputs": [],
   "source": [
    "class Employee:\n",
    "    \n",
    "    raise_amt = 1.04\n",
    "    def __init__(self,first,last,pay): \n",
    "        self.first = first \n",
    "        self.last = last\n",
    "        self.email = first+'.'+last+'@email.com'\n",
    "        self.pay = pay\n",
    "    \n",
    "    def fullname(self):\n",
    "        return '{} {}'.format(self.first, self.last)\n",
    "    \n",
    "            \n",
    "    def apply_raise(self):\n",
    "        self.pay = int(self.pay * self.raise_amt)\n",
    "        \n",
    "emp_1 = Employee('Corey','Schafer',50000)\n",
    "emp_2 = Employee('Shikhar','Ghimire',55000)\n"
   ]
  },
  {
   "cell_type": "markdown",
   "metadata": {},
   "source": [
    "We have been working with this employee class and let's say we want to be more specific here and create different types of employees. For example let's say we want to create developers and managers. This will be good candidate for subclasses because both developers and manager are going to have name,email addresses and salary. And those are all the  thing employee class already has. So instead of copying all this code into our manager and developer subclasses, we can just reuse the code by inherting from employee\n"
   ]
  },
  {
   "cell_type": "code",
   "execution_count": 8,
   "metadata": {},
   "outputs": [
    {
     "name": "stdout",
     "output_type": "stream",
     "text": [
      "Corey.Schafer@email.com\n",
      "Shikhar.Ghimire@email.com\n",
      "Corey.Schafer@email.com\n",
      "Shikhar.Ghimire@email.com\n"
     ]
    }
   ],
   "source": [
    "class Employee:\n",
    "    \n",
    "    raise_amt = 1.04\n",
    "    def __init__(self,first,last,pay): \n",
    "        self.first = first \n",
    "        self.last = last\n",
    "        self.email = first+'.'+last+'@email.com'\n",
    "        self.pay = pay\n",
    "    \n",
    "    def fullname(self):\n",
    "        return '{} {}'.format(self.first, self.last)\n",
    "    \n",
    "            \n",
    "    def apply_raise(self):\n",
    "        self.pay = int(self.pay * self.raise_amt)\n",
    "        \n",
    "class Developer(Employee): #Inheriting from employee class\n",
    "    pass\n",
    "        \n",
    "emp_1 = Employee('Corey','Schafer',50000)\n",
    "emp_2 = Employee('Shikhar','Ghimire',55000)\n",
    "\n",
    "dev_1 = Developer('Corey','Schafer',50000)\n",
    "dev_2 = Developer('Shikhar','Ghimire',55000)\n",
    "\n",
    "print(emp_1.email)\n",
    "print(emp_2.email)\n",
    "print(dev_1.email) #We will get the result of the. values we inherited from the employee class\n",
    "print(dev_2.email)"
   ]
  },
  {
   "cell_type": "markdown",
   "metadata": {},
   "source": [
    "When we initansiated our developers, it first looked in our developer class for the init method. And it is not. going to find in. developer\n",
    "class because it is empty so what python is gonna do it is walk through the inheritance until it finds what it's looking for.\n",
    "This chain is called method order resolution.\n",
    "\n",
    "Use help() function to check which attributes the class is inherting from"
   ]
  },
  {
   "cell_type": "code",
   "execution_count": 10,
   "metadata": {},
   "outputs": [
    {
     "name": "stdout",
     "output_type": "stream",
     "text": [
      "Help on class Developer in module __main__:\n",
      "\n",
      "class Developer(Employee)\n",
      " |  Developer(first, last, pay)\n",
      " |  \n",
      " |  Method resolution order:\n",
      " |      Developer\n",
      " |      Employee\n",
      " |      builtins.object\n",
      " |  \n",
      " |  Methods inherited from Employee:\n",
      " |  \n",
      " |  __init__(self, first, last, pay)\n",
      " |      Initialize self.  See help(type(self)) for accurate signature.\n",
      " |  \n",
      " |  apply_raise(self)\n",
      " |  \n",
      " |  fullname(self)\n",
      " |  \n",
      " |  ----------------------------------------------------------------------\n",
      " |  Data descriptors inherited from Employee:\n",
      " |  \n",
      " |  __dict__\n",
      " |      dictionary for instance variables (if defined)\n",
      " |  \n",
      " |  __weakref__\n",
      " |      list of weak references to the object (if defined)\n",
      " |  \n",
      " |  ----------------------------------------------------------------------\n",
      " |  Data and other attributes inherited from Employee:\n",
      " |  \n",
      " |  raise_amt = 1.04\n",
      "\n",
      "None\n"
     ]
    }
   ],
   "source": [
    "print(help(Developer))"
   ]
  },
  {
   "cell_type": "markdown",
   "metadata": {},
   "source": [
    "Let's now work on the pay and see what happens"
   ]
  },
  {
   "cell_type": "code",
   "execution_count": 12,
   "metadata": {},
   "outputs": [
    {
     "name": "stdout",
     "output_type": "stream",
     "text": [
      "50000\n",
      "52000\n"
     ]
    }
   ],
   "source": [
    "class Employee:\n",
    "    \n",
    "    raise_amt = 1.04\n",
    "    def __init__(self,first,last,pay): \n",
    "        self.first = first \n",
    "        self.last = last\n",
    "        self.email = first+'.'+last+'@email.com'\n",
    "        self.pay = pay\n",
    "    \n",
    "    def fullname(self):\n",
    "        return '{} {}'.format(self.first, self.last)\n",
    "    \n",
    "            \n",
    "    def apply_raise(self):\n",
    "        self.pay = int(self.pay * self.raise_amt)\n",
    "        \n",
    "class Developer(Employee): #Inheriting from employee class\n",
    "    pass\n",
    "        \n",
    "emp_1 = Employee('Corey','Schafer',50000)\n",
    "emp_2 = Employee('Shikhar','Ghimire',55000)\n",
    "\n",
    "dev_1 = Developer('Corey','Schafer',50000)\n",
    "dev_2 = Developer('Shikhar','Ghimire',55000)\n",
    "\n",
    "print(dev_1.pay)\n",
    "dev_1.apply_raise()\n",
    "print(dev_1.pay)"
   ]
  },
  {
   "cell_type": "markdown",
   "metadata": {},
   "source": [
    "Let's say we want our developers to have raise of 10%\n",
    "To change that we can just change the raise amount inside the developer class"
   ]
  },
  {
   "cell_type": "code",
   "execution_count": 13,
   "metadata": {},
   "outputs": [
    {
     "name": "stdout",
     "output_type": "stream",
     "text": [
      "50000\n",
      "55000\n"
     ]
    }
   ],
   "source": [
    "class Employee:\n",
    "    \n",
    "    raise_amt = 1.04\n",
    "    def __init__(self,first,last,pay): \n",
    "        self.first = first \n",
    "        self.last = last\n",
    "        self.email = first+'.'+last+'@email.com'\n",
    "        self.pay = pay\n",
    "    \n",
    "    def fullname(self):\n",
    "        return '{} {}'.format(self.first, self.last)\n",
    "    \n",
    "            \n",
    "    def apply_raise(self):\n",
    "        self.pay = int(self.pay * self.raise_amt)\n",
    "        \n",
    "class Developer(Employee): #Inheriting from employee class\n",
    "    raise_amt = 1.10\n",
    "        \n",
    "emp_1 = Employee('Corey','Schafer',50000)\n",
    "emp_2 = Employee('Shikhar','Ghimire',55000)\n",
    "\n",
    "dev_1 = Developer('Corey','Schafer',50000)\n",
    "dev_2 = Developer('Shikhar','Ghimire',55000)\n",
    "\n",
    "print(dev_1.pay)\n",
    "dev_1.apply_raise()\n",
    "print(dev_1.pay)"
   ]
  },
  {
   "cell_type": "markdown",
   "metadata": {},
   "source": [
    "Thing to take from this is by changing the raise amount in subclass, it didn't have any effect on any of our employee instances. They still have the raise amount of 4%"
   ]
  },
  {
   "cell_type": "markdown",
   "metadata": {},
   "source": [
    "Let's look at more complicated changes. So sometimes we want to initiate our subclasses with more information than our parents class can handle. Let's say when we create our developers here, we also wanted to pass our main programming language as an attribute but currently our employee class only accepts (firstname,lastname and pay)\n",
    "\n",
    "If we want to add programming language there and to get around this, we are going to have to  give developer class its own init method"
   ]
  },
  {
   "cell_type": "code",
   "execution_count": 16,
   "metadata": {},
   "outputs": [
    {
     "name": "stdout",
     "output_type": "stream",
     "text": [
      "Corey.Schafer@email.com\n",
      "Java\n"
     ]
    }
   ],
   "source": [
    "class Employee:\n",
    "    \n",
    "    raise_amt = 1.04\n",
    "    def __init__(self,first,last,pay): \n",
    "        self.first = first \n",
    "        self.last = last\n",
    "        self.email = first+'.'+last+'@email.com'\n",
    "        self.pay = pay\n",
    "    \n",
    "    def fullname(self):\n",
    "        return '{} {}'.format(self.first, self.last)\n",
    "    \n",
    "            \n",
    "    def apply_raise(self):\n",
    "        self.pay = int(self.pay * self.raise_amt)\n",
    "        \n",
    "class Developer(Employee): #Inheriting from employee class\n",
    "    raise_amt = 1.10\n",
    "    \n",
    "    def __init__(self,first,last,pay,prog_lang): #This is what we need to add\n",
    "        super().__init__(first,last,pay) #this is going to  pass first,last and pay to employee init method and let that class handle these arguments\n",
    "        self.prog_lang = prog_lang\n",
    "        \n",
    "emp_1 = Employee('Corey','Schafer',50000)\n",
    "emp_2 = Employee('Shikhar','Ghimire',55000)\n",
    "\n",
    "dev_1 = Developer('Corey','Schafer',50000,'Java')\n",
    "dev_2 = Developer('Shikhar','Ghimire',55000,'Python')\n",
    "\n",
    "print(dev_1.email)\n",
    "dev_1.apply_raise()\n",
    "print(dev_1.prog_lang)"
   ]
  },
  {
   "cell_type": "markdown",
   "metadata": {},
   "source": [
    "Let's create another subclass called manager and let's go it through again"
   ]
  },
  {
   "cell_type": "code",
   "execution_count": 28,
   "metadata": {},
   "outputs": [
    {
     "name": "stdout",
     "output_type": "stream",
     "text": [
      "Sue.Smith@email.com\n",
      "--> Corey Schafer\n",
      "--> Corey Schafer\n",
      "--> Shikhar Ghimire\n"
     ]
    }
   ],
   "source": [
    "class Employee:\n",
    "    \n",
    "    raise_amt = 1.04\n",
    "    def __init__(self,first,last,pay): \n",
    "        self.first = first \n",
    "        self.last = last\n",
    "        self.email = first+'.'+last+'@email.com'\n",
    "        self.pay = pay\n",
    "    \n",
    "    def fullname(self):\n",
    "        return '{} {}'.format(self.first, self.last)\n",
    "    \n",
    "            \n",
    "    def apply_raise(self):\n",
    "        self.pay = int(self.pay * self.raise_amt)\n",
    "        \n",
    "class Developer(Employee): #Inheriting from employee class\n",
    "    raise_amt = 1.10\n",
    "    def __init__(self,first,last,pay,prog_lang): #This is what we need to add\n",
    "        super().__init__(first,last,pay) #this is going to  pass first,last and pay to employee init method and let that class handle these arguments\n",
    "        self.prog_lang = prog_lang\n",
    "        \n",
    "class Manager(Employee):\n",
    "    def __init__(self,first,last,pay,employees = None):\n",
    "        super().__init__(first,last,pay)\n",
    "        if employees is None:\n",
    "            self.employees = []\n",
    "        else:\n",
    "            self.employees = employees\n",
    "            \n",
    "    def add_emp(self,emp):\n",
    "        if emp not in self.employees:\n",
    "            self.employees.append(emp)\n",
    "        \n",
    "    def remove_emp(self,emp):\n",
    "        if emp not in self.employees:\n",
    "            self.employees.append(emp)\n",
    "    \n",
    "    \n",
    "    def print_emps(self):\n",
    "        for emp in self.employees:\n",
    "            print('-->',emp.fullname())\n",
    "    \n",
    "\n",
    "\n",
    "dev_1 = Developer('Corey','Schafer',50000,'Java')\n",
    "dev_2 = Developer('Shikhar','Ghimire',55000,'Python')\n",
    "\n",
    "mgr_1 = Manager('Sue','Smith',90000,[dev_1])\n",
    "# print(mgr_1.email)\n",
    "# mgr_1.print_emps()\n",
    "\n",
    "# mgr_1.add_emp(dev_2)\n",
    "\n",
    "# mgr_1.print_emps()"
   ]
  },
  {
   "cell_type": "markdown",
   "metadata": {},
   "source": [
    "Python has these two built in functions called 'isinstance() and issubclass(). isinstance() will tell us if an object is an instance of a class. "
   ]
  },
  {
   "cell_type": "code",
   "execution_count": 29,
   "metadata": {},
   "outputs": [
    {
     "name": "stdout",
     "output_type": "stream",
     "text": [
      "True\n"
     ]
    }
   ],
   "source": [
    "#If I need to print out whether manager one is an instance of manager\n",
    "print(isinstance(mgr_1,Manager))"
   ]
  },
  {
   "cell_type": "code",
   "execution_count": 30,
   "metadata": {},
   "outputs": [
    {
     "name": "stdout",
     "output_type": "stream",
     "text": [
      "True\n"
     ]
    }
   ],
   "source": [
    "#If I have to check whether manager is instance of employee\n",
    "print(isinstance(mgr_1,Employee))"
   ]
  },
  {
   "cell_type": "code",
   "execution_count": 32,
   "metadata": {},
   "outputs": [
    {
     "name": "stdout",
     "output_type": "stream",
     "text": [
      "False\n"
     ]
    }
   ],
   "source": [
    "#If I have to check whether manager is instance of developer\n",
    "print(isinstance(mgr_1,Developer))"
   ]
  },
  {
   "cell_type": "markdown",
   "metadata": {},
   "source": [
    "SUBCLASS however will tells if class is a subclass of another"
   ]
  },
  {
   "cell_type": "code",
   "execution_count": 33,
   "metadata": {},
   "outputs": [
    {
     "name": "stdout",
     "output_type": "stream",
     "text": [
      "True\n"
     ]
    }
   ],
   "source": [
    "print(issubclass(Manager,Employee))"
   ]
  },
  {
   "cell_type": "code",
   "execution_count": null,
   "metadata": {},
   "outputs": [],
   "source": []
  }
 ],
 "metadata": {
  "kernelspec": {
   "display_name": "Python 3",
   "language": "python",
   "name": "python3"
  },
  "language_info": {
   "codemirror_mode": {
    "name": "ipython",
    "version": 3
   },
   "file_extension": ".py",
   "mimetype": "text/x-python",
   "name": "python",
   "nbconvert_exporter": "python",
   "pygments_lexer": "ipython3",
   "version": "3.7.6"
  }
 },
 "nbformat": 4,
 "nbformat_minor": 4
}
