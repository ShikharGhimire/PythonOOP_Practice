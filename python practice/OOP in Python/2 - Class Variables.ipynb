{
 "cells": [
  {
   "cell_type": "markdown",
   "metadata": {},
   "source": [
    "### What are class variables?\n",
    "- Class  variables are variables that are shared among all instances of a class.\n",
    "- While instance variable can be unique to each instances, class variables should be the same for each instance.\n",
    "\n",
    "#### Example:\n",
    "- Let's say a company gives annual raises every year. \n",
    "- Let's hardcode this first"
   ]
  },
  {
   "cell_type": "code",
   "execution_count": 9,
   "metadata": {},
   "outputs": [
    {
     "name": "stdout",
     "output_type": "stream",
     "text": [
      "52000\n"
     ]
    }
   ],
   "source": [
    "class Employee:\n",
    "    def __init__(self,first,last,pay): \n",
    "        self.first = first \n",
    "        self.last = last\n",
    "        self.pay = pay\n",
    "        self.email = first+ '.' + last + '@company.com'\n",
    "        \n",
    "        #Let's create a method that handles the raise\n",
    "    def apply_raise(self):\n",
    "        self.pay = int(self.pay * 1.04)\n",
    "    \n",
    "    def fullname(self):\n",
    "        return '{} {}'.format(self.first, self.last)\n",
    "        \n",
    "emp_1 = Employee('Corey','Schafer',50000)\n",
    "emp_2 = Employee('Shikhar','Ghimire',55000)\n",
    "\n",
    "emp_1.apply_raise()\n",
    "print(emp_1.pay)"
   ]
  },
  {
   "cell_type": "markdown",
   "metadata": {},
   "source": [
    "#### Couple of things wrong here\n",
    "- First it would be nice if we can access the raise amount by doing something like emp_1.raise_amount\n",
    "- Since it would apply to entire class, we. should also be able to get the raise amount using Employee.raise_amount\n",
    "- We also don't want to change the raise amount from multiple location\n",
    "- So let's pull that 1.04 into a variable"
   ]
  },
  {
   "cell_type": "code",
   "execution_count": 1,
   "metadata": {},
   "outputs": [
    {
     "name": "stdout",
     "output_type": "stream",
     "text": [
      "2\n"
     ]
    }
   ],
   "source": [
    "class Employee:\n",
    "    \n",
    "    raise_amount = 1.04\n",
    "    num_of_emps = 0\n",
    "    \n",
    "    def __init__(self,first,last,pay): \n",
    "        self.first = first \n",
    "        self.last = last\n",
    "        self.pay = pay\n",
    "        self.email = first+ '.' + last + '@company.com'\n",
    "        \n",
    "        Employee.num_of_emps +=1\n",
    "        \n",
    "        #Let's create a method that handles the raise\n",
    "    def apply_raise(self):\n",
    "        self.pay = int(self.pay * self.raise_amount) #We have to use the self to get the class variable too\n",
    "    \n",
    "    def fullname(self):\n",
    "        return '{} {}'.format(self.first, self.last)\n",
    "        \n",
    "emp_1 = Employee('Corey','Schafer',50000)\n",
    "emp_2 = Employee('Shikhar','Ghimire',55000)\n",
    "\n",
    "print(Employee.num_of_emps)\n"
   ]
  },
  {
   "cell_type": "markdown",
   "metadata": {},
   "source": [
    "### Good summary on class variables\n",
    "- https://dev.to/ogwurujohnson/distinguishing-instance-variables-from-class-variables-in-python-81#:~:text=Instance%20variables%20are%20variables%20used,unique%20to%20a%20particular%20instance.&text=Class%20Variables%20are%20variables%20that,the%2Dsame%20for%20each%20instance."
   ]
  },
  {
   "cell_type": "code",
   "execution_count": null,
   "metadata": {},
   "outputs": [],
   "source": []
  }
 ],
 "metadata": {
  "kernelspec": {
   "display_name": "Python 3",
   "language": "python",
   "name": "python3"
  },
  "language_info": {
   "codemirror_mode": {
    "name": "ipython",
    "version": 3
   },
   "file_extension": ".py",
   "mimetype": "text/x-python",
   "name": "python",
   "nbconvert_exporter": "python",
   "pygments_lexer": "ipython3",
   "version": "3.7.6"
  }
 },
 "nbformat": 4,
 "nbformat_minor": 4
}
