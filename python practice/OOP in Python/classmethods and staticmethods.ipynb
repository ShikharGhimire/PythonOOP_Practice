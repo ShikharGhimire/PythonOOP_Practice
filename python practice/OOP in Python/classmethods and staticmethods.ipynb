{
 "cells": [
  {
   "cell_type": "markdown",
   "metadata": {},
   "source": [
    "#### What is the difference between classmethods and staticmethods?\n",
    "- Regular methods in a class automatically takes the instances as the first argument(self)\n",
    "How can we change this so that it takes class as the first argument instead of instance?\n",
    "- To do that we are going to use class methods and turn regular method into class method. To convert regular method into a class method, it is as easy as adding decorators at the top called classmethods( @classmethods)\n"
   ]
  },
  {
   "cell_type": "markdown",
   "metadata": {},
   "source": [
    "- To decide whether to use @staticmethod or @classmethod you have to look inside your method. If your method accesses other variables/methods in your class then use @classmethod. On the other hand, if your method does not touches any other parts of the class then use @staticmethod.\n"
   ]
  },
  {
   "cell_type": "code",
   "execution_count": 4,
   "metadata": {},
   "outputs": [
    {
     "name": "stdout",
     "output_type": "stream",
     "text": [
      "1.05\n"
     ]
    }
   ],
   "source": [
    "class Employee:\n",
    "    \n",
    "    raise_amount = 1.04\n",
    "    num_of_emps = 0\n",
    "    \n",
    "    def __init__(self,first,last,pay): \n",
    "        self.first = first \n",
    "        self.last = last\n",
    "        self.pay = pay\n",
    "        self.email = first+ '.' + last + '@company.com'\n",
    "        \n",
    "        Employee.num_of_emps +=1\n",
    "        \n",
    "        #Let's create a method that handles the raise\n",
    "    def apply_raise(self):\n",
    "        self.pay = int(self.pay * self.raise_amount) #We have to use the self to get the class variable too\n",
    "    \n",
    "    def fullname(self):\n",
    "        return '{} {}'.format(self.first, self.last)\n",
    "    \n",
    "    @classmethod #this is altering the functionality of our method to where now you recieve class as an argument instead of the instance\n",
    "    def set_raise_amount(cls,amount): #cls is a unique keyword to call the class\n",
    "        cls.raise_amount = amount\n",
    "\n",
    "emp_1 = Employee('Corey','Schafer',50000)\n",
    "emp_2 = Employee('Shikhar','Ghimire',55000)\n",
    "\n",
    "#Let's change raise amount to a higher number from 1.4\n",
    "Employee.set_raise_amount(1.05)\n",
    "\n",
    "print(Employee.raise_amount)\n"
   ]
  },
  {
   "cell_type": "code",
   "execution_count": 8,
   "metadata": {},
   "outputs": [
    {
     "name": "stdout",
     "output_type": "stream",
     "text": [
      "John.Does@company.com\n"
     ]
    }
   ],
   "source": [
    "#Let's say we have three strings of the employee name and they are all in the string and seperated by hyphen\n",
    "emp_str_1 = 'John-Does-70000'\n",
    "emp_str_2 = 'Shikhar-Ghimire-300000'\n",
    "emp_str_3 = 'Jane-Doe-90000'\n",
    "\n",
    "first,last,pay = emp_str_1.split('-')\n",
    "new_emp_1 = Employee(first,last,pay)\n",
    "\n",
    "print(new_emp_1.email)"
   ]
  },
  {
   "cell_type": "code",
   "execution_count": 18,
   "metadata": {},
   "outputs": [
    {
     "name": "stdout",
     "output_type": "stream",
     "text": [
      "True\n"
     ]
    }
   ],
   "source": [
    "#But if this is a common use case on how they are using our class, we don't want them to have to parse these strings everytime \n",
    "#they want to create a new employee\n",
    "#Let's just create an alternative constructor where they can just pass in the string and create employee for them\n",
    "\n",
    "class Employee:\n",
    "    \n",
    "    raise_amount = 1.04\n",
    "    num_of_emps = 0\n",
    "    \n",
    "    def __init__(self,first,last,pay): \n",
    "        self.first = first \n",
    "        self.last = last\n",
    "        self.pay = pay\n",
    "        self.email = first+ '.' + last + '@company.com'\n",
    "        \n",
    "        Employee.num_of_emps +=1\n",
    "        \n",
    "        #Let's create a method that handles the raise\n",
    "    def apply_raise(self):\n",
    "        self.pay = int(self.pay * self.raise_amount) #We have to use the self to get the class variable too\n",
    "    \n",
    "    def fullname(self):\n",
    "        return '{} {}'.format(self.first, self.last)\n",
    "    \n",
    "    @classmethod #this is altering the functionality of our method to where now you recieve class as an argument instead of the instance\n",
    "    def set_raise_amount(cls,amount): #cls is a unique keyword to call the class\n",
    "        cls.raise_amount = amount\n",
    "    \n",
    "    @classmethod\n",
    "    def from_string(cls,emp_str):\n",
    "        first,last,pay = emp_str.split('-')\n",
    "        return cls(first,last,pay)\n",
    "    \n",
    "#Let's say we wanted a simple function that would take in a date and return whether or not that is a work day\n",
    "#That has the logical connection to employee class but it doesn't actually depend on any specific instance or class variables\n",
    "#So instead we create a static method\n",
    "\n",
    "    @staticmethod\n",
    "    def is_workday(day):\n",
    "        if day.weekday()==5 or day.weekday()==6:\n",
    "            return False\n",
    "        return True\n",
    "\n",
    "emp_1 = Employee('Corey','Schafer',50000)\n",
    "emp_2 = Employee('Shikhar','Ghimire',55000)\n",
    "\n",
    "import datetime\n",
    "my_date = datetime.date(2016,7,11)\n",
    "\n",
    "print(Employee.is_workday(my_date))\n",
    "\n",
    "# emp_str_1 = 'John-Doe-70000'\n",
    "# emp_str_2 = 'Steve-Smith-30000'\n",
    "# emp_str_3 = 'Jane-Doe-90000'\n",
    "\n",
    "# new_emp_1 = Employee.from_string(emp_str_1)\n"
   ]
  },
  {
   "cell_type": "markdown",
   "metadata": {},
   "source": [
    "#### To understand more about decorators\n",
    "- https://www.datacamp.com/community/tutorials/decorators-python"
   ]
  },
  {
   "cell_type": "code",
   "execution_count": null,
   "metadata": {},
   "outputs": [],
   "source": []
  }
 ],
 "metadata": {
  "kernelspec": {
   "display_name": "Python 3",
   "language": "python",
   "name": "python3"
  },
  "language_info": {
   "codemirror_mode": {
    "name": "ipython",
    "version": 3
   },
   "file_extension": ".py",
   "mimetype": "text/x-python",
   "name": "python",
   "nbconvert_exporter": "python",
   "pygments_lexer": "ipython3",
   "version": "3.7.6"
  }
 },
 "nbformat": 4,
 "nbformat_minor": 4
}
